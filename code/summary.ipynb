{
    "cells": [
	{
	    "cell_type": "markdown",
	    "metadata": {},
	    "source": [
		"This is the summary notebook for project: uber_container\n",
		"# Getting data:\n",
		"[data_download](data_download.ipynb)\n",
		"# Results description:\n"
	    ]
	}
 ],
 "metadata": {},
 "nbformat": 4,
 "nbformat_minor": 2
}